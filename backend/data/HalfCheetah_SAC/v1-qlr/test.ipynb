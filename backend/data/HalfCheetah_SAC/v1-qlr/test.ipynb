{
 "cells": [
  {
   "cell_type": "code",
   "execution_count": 1,
   "metadata": {},
   "outputs": [],
   "source": [
    "import glob\n",
    "import os"
   ]
  },
  {
   "cell_type": "code",
   "execution_count": 2,
   "metadata": {},
   "outputs": [],
   "source": [
    "dir_list = glob.glob('./*/')"
   ]
  },
  {
   "cell_type": "code",
   "execution_count": 3,
   "metadata": {},
   "outputs": [
    {
     "data": {
      "text/plain": [
       "['./HalfCheetah_SAC_v1-lr_0.0001_1/',\n",
       " './HalfCheetah_SAC_v1-lr_0.0001_0/',\n",
       " './HalfCheetah_SAC_v1-lr_3e-05_2/',\n",
       " './HalfCheetah_SAC_v1-lr_0.0003_2/',\n",
       " './HalfCheetah_SAC_v1-lr_0.001_0/',\n",
       " './HalfCheetah_SAC_v1-lr_0.0003_1/',\n",
       " './HalfCheetah_SAC_v1-lr_3e-05_0/',\n",
       " './HalfCheetah_SAC_v1-lr_0.001_2/',\n",
       " './HalfCheetah_SAC_v1-lr_1e-05_1/',\n",
       " './HalfCheetah_SAC_v1-lr_0.0001_2/',\n",
       " './HalfCheetah_SAC_v1-lr_0.001_1/',\n",
       " './HalfCheetah_SAC_v1-lr_1e-05_0/',\n",
       " './HalfCheetah_SAC_v1-lr_1e-05_2/',\n",
       " './HalfCheetah_SAC_v1-lr_0.0003_0/',\n",
       " './HalfCheetah_SAC_v1-lr_3e-05_1/']"
      ]
     },
     "execution_count": 3,
     "metadata": {},
     "output_type": "execute_result"
    }
   ],
   "source": [
    "dir_list"
   ]
  },
  {
   "cell_type": "code",
   "execution_count": 6,
   "metadata": {},
   "outputs": [],
   "source": [
    "for dir_name in dir_list:\n",
    "    splitted = dir_name[2:-1].split('_')\n",
    "    modified = [*splitted[:2], 'v1-qlr', *splitted[3:]]\n",
    "    new_name = '_'.join(modified)\n",
    "    # print(new_name)\n",
    "    os.rename(dir_name, new_name)\n",
    "    # print('_'.join(modified))\n",
    "    # print(dir_name[2:-1])"
   ]
  },
  {
   "cell_type": "code",
   "execution_count": null,
   "metadata": {},
   "outputs": [],
   "source": []
  }
 ],
 "metadata": {
  "interpreter": {
   "hash": "880ddefa00eecc30bfb33040de56712c5fa1eb466dbfa289c569ff22835241ca"
  },
  "kernelspec": {
   "display_name": "Python 3.6.9 64-bit ('dobrovenv': venv)",
   "language": "python",
   "name": "python3"
  },
  "language_info": {
   "codemirror_mode": {
    "name": "ipython",
    "version": 3
   },
   "file_extension": ".py",
   "mimetype": "text/x-python",
   "name": "python",
   "nbconvert_exporter": "python",
   "pygments_lexer": "ipython3",
   "version": "3.6.9"
  },
  "orig_nbformat": 4
 },
 "nbformat": 4,
 "nbformat_minor": 2
}
